{
 "cells": [
  {
   "cell_type": "code",
   "execution_count": 1,
   "metadata": {},
   "outputs": [],
   "source": [
    "import csv\n",
    "import requests\n",
    "import numpy as np\n",
    "from __future__ import unicode_literals \n",
    "from bosonnlp import BosonNLP\n",
    "nlp = BosonNLP('Yy7Tpb83.27824.Zdrfgp6JtKTf')\n",
    "\n",
    "def readfile(filename,encode = 'UTF-8'):\n",
    "    rawlist = []\n",
    "    with open(filename,'r+', encoding=encode) as csvfile:\n",
    "        rows = csv.reader(csvfile)\n",
    "        for row in rows:\n",
    "            rawlist.append(row)\n",
    "    return rawlist\n",
    "\n",
    "def writefile(filename,inputlist):\n",
    "    with open(filename,'a+', encoding='utf-8') as csvfile:\n",
    "        writer = csv.writer(csvfile, delimiter=',')\n",
    "        for row in inputlist:\n",
    "            writer.writerow(row)"
   ]
  },
  {
   "cell_type": "markdown",
   "metadata": {},
   "source": [
    "### Boson 跟結巴是差不多的，提供更多種的服務，不過這邊就只用斷詞，他還會斷出詞性，不過我們沒拿來用\n",
    "### 要先在Bosonnlp註冊拿到金鑰，透過API上傳欲斷詞語句"
   ]
  },
  {
   "cell_type": "code",
   "execution_count": null,
   "metadata": {},
   "outputs": [],
   "source": [
    "susan = readfile('susanmiller_raw.csv')\n",
    "for j in range(0,len(susan)):\n",
    "    for i in range(0,len(susan[j])):\n",
    "    #for i in range(0,3):\n",
    "        try:\n",
    "            result = nlp.tag(susan[j][i])\n",
    "            susan[j].append([newlist[i],result[0]['word'])\n",
    "        except:\n",
    "            print('summary',i,'does not work.')\n",
    "    if (j%10==0):\n",
    "            print(j)\n",
    "\n",
    "writefile('susan_split.csv')                       \n",
    "print('done')"
   ]
  },
  {
   "cell_type": "code",
   "execution_count": 5,
   "metadata": {},
   "outputs": [
    {
     "name": "stdout",
     "output_type": "stream",
     "text": [
      "0\n",
      "10\n",
      "20\n",
      "30\n",
      "40\n",
      "50\n",
      "60\n",
      "70\n",
      "80\n",
      "90\n",
      "100\n",
      "110\n",
      "120\n",
      "130\n",
      "140\n",
      "150\n",
      "done\n"
     ]
    }
   ],
   "source": [
    "susan = readfile('susan_week.csv')\n",
    "for j in range(0,len(susan)):\n",
    "    try:\n",
    "        result = nlp.tag(susan[j][0])\n",
    "        susan[j].append(result[0]['word'])\n",
    "    except:\n",
    "        print('summary',i,'does not work.')\n",
    "    if (j%10==0):\n",
    "            print(j)\n",
    "\n",
    "writefile('susan_week_split.csv',susan)                       "
   ]
  },
  {
   "cell_type": "code",
   "execution_count": null,
   "metadata": {},
   "outputs": [],
   "source": []
  }
 ],
 "metadata": {
  "kernelspec": {
   "display_name": "Python 3",
   "language": "python",
   "name": "python3"
  },
  "language_info": {
   "codemirror_mode": {
    "name": "ipython",
    "version": 3
   },
   "file_extension": ".py",
   "mimetype": "text/x-python",
   "name": "python",
   "nbconvert_exporter": "python",
   "pygments_lexer": "ipython3",
   "version": "3.6.6"
  }
 },
 "nbformat": 4,
 "nbformat_minor": 2
}
