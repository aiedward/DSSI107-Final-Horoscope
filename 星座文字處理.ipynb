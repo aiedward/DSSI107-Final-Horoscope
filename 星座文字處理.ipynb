{
 "cells": [
  {
   "cell_type": "code",
   "execution_count": 55,
   "metadata": {},
   "outputs": [],
   "source": [
    "import csv\n",
    "def readfile(filename,encode = 'UTF-8'):\n",
    "    rawlist = []\n",
    "    with open(filename,'r+', encoding=encode) as csvfile:\n",
    "        rows = csv.reader(csvfile)\n",
    "        for row in rows:\n",
    "            rawlist.append(row)\n",
    "    return rawlist\n",
    "\n",
    "def writefile(filename,inputlist):\n",
    "    with open(filename,'a+', encoding='utf-8') as csvfile:\n",
    "        writer = csv.writer(csvfile, delimiter=',')\n",
    "        for row in inputlist:\n",
    "            writer.writerow(row)"
   ]
  },
  {
   "cell_type": "code",
   "execution_count": 56,
   "metadata": {},
   "outputs": [
    {
     "name": "stdout",
     "output_type": "stream",
     "text": [
      "644\n"
     ]
    }
   ],
   "source": [
    "alist = readfile('DSSFinal_daily_horoscope.csv')\n",
    "tang = []\n",
    "susan = []"
   ]
  },
  {
   "cell_type": "code",
   "execution_count": 57,
   "metadata": {},
   "outputs": [],
   "source": [
    "for i in range(0,len(alist)):\n",
    "    if '唐綺陽' in alist[i][0]:\n",
    "        tmp = alist[i][2].split()\n",
    "        for j in range(0,len(tmp)):\n",
    "            if '晴天星座' in tmp[j]:\n",
    "                tmp = tmp[j:]\n",
    "                break\n",
    "        for j in range(0,len(tmp)):\n",
    "            if '閃電星座' in tmp[j]:\n",
    "                tmp = tmp[:j+5]\n",
    "                break\n",
    "        tang.append([alist[i][0],tmp]) \n",
    "    #蘇珊米勒\n",
    "    elif '蘇珊' in alist[i][0]:\n",
    "        tmp = alist[i][2].split()\n",
    "        for j in range(0,len(tmp)):\n",
    "            if '白羊座' in tmp[j]:\n",
    "                tmp = tmp[j:]\n",
    "                break\n",
    "        for j in range(0,len(tmp)):\n",
    "            if tmp[j] =='雙魚座':\n",
    "                tmp = tmp[:j+2]\n",
    "                break\n",
    "        alist[i].append(tmp)  \n",
    "        susan.append([alist[i][0],tmp]) "
   ]
  },
  {
   "cell_type": "code",
   "execution_count": 59,
   "metadata": {},
   "outputs": [
    {
     "name": "stdout",
     "output_type": "stream",
     "text": [
      "314\n"
     ]
    }
   ],
   "source": [
    "tang_fix = []\n",
    "tmp = []\n",
    "not_allow = [ '(adsbygoogle',\n",
    " '=',\n",
    " 'window.adsbygoogle',\n",
    " '||',\n",
    " '[]).push({});',\n",
    " '\\u200b']\n",
    "\n",
    "for i in range(0,len(tang)):\n",
    "    if(not len(tang[i][1])>700):\n",
    "        for j in range(0,len(tang[i][1])):\n",
    "            if not tang[i][1][j] in not_allow:                \n",
    "                tmp.append(tang[i][1][j])\n",
    "        tang[i][1] = tmp\n",
    "        tmp = []\n",
    "        tang_fix.append(tang[i])\n",
    "print(len(tang_fix))"
   ]
  },
  {
   "cell_type": "markdown",
   "metadata": {},
   "source": [
    "# 找到不一致的資料位置"
   ]
  },
  {
   "cell_type": "code",
   "execution_count": 60,
   "metadata": {},
   "outputs": [],
   "source": [
    "#for i in range(0,len(tang_fix)):\n",
    "#    if not len(tang_fix[i][1])==29:\n",
    "#        print(i,len(tang_fix[i][1]))"
   ]
  },
  {
   "cell_type": "markdown",
   "metadata": {},
   "source": [
    "# 土法煉鋼，處理多了一行的"
   ]
  },
  {
   "cell_type": "code",
   "execution_count": 61,
   "metadata": {},
   "outputs": [],
   "source": [
    "tang_fix[156][1][9] = tang_fix[156][1][9] + tang_fix[156][1][10]\n",
    "tang_fix[156][1][10] = '###'\n",
    "tang_fix[99][1][6] = tang_fix[99][1][6] + tang_fix[99][1][7]\n",
    "tang_fix[99][1][7] = '###' \n",
    "tang_fix[182][1][16] =  tang_fix[182][1][16] + tang_fix[182][1][17]\n",
    "tang_fix[182][1][17] = '###'\n",
    "tang_fix[187][1][9] = tang_fix[187][1][9] + tang_fix[187][1][10]\n",
    "tang_fix[187][1][10] = '###'\n",
    "tang_fix[276][1][9] = tang_fix[276][1][9] + tang_fix[276][1][10]\n",
    "tang_fix[276][1][10] = '###'\n",
    "tang_fix[44][1][26] = tang_fix[44][1][26] + tang_fix[44][1][27]\n",
    "tang_fix[44][1][27] = '###'\n",
    "tang_fix[226][1][26] = tang_fix[276][1][26] + tang_fix[276][1][27]\n",
    "tang_fix[44][1][27] = '###'\n",
    "for i in range(0,len(tang_fix)):\n",
    "    if '###' in tang_fix[i][1]:\n",
    "        tang_fix[i][1].remove('###')"
   ]
  },
  {
   "cell_type": "markdown",
   "metadata": {},
   "source": [
    "# 處理少了五行的 46 52 53 57 58 59"
   ]
  },
  {
   "cell_type": "code",
   "execution_count": 62,
   "metadata": {},
   "outputs": [],
   "source": [
    "above5 = [46,52,53,57,58,59]\n",
    "tmp = []\n",
    "for i in above5:\n",
    "    for j in range(0,len(tang_fix[i][1])):\n",
    "        if '座:' in tang_fix[i][1][j]:\n",
    "            tmp.append(tang_fix[i][1][j][:-4])\n",
    "            tmp.append(tang_fix[i][1][j][-4:])\n",
    "        else:\n",
    "            tmp.append(tang_fix[i][1][j])\n",
    "    tang_fix[i][1] = tmp\n",
    "    tmp = []"
   ]
  },
  {
   "cell_type": "markdown",
   "metadata": {},
   "source": [
    "# 處理少了四行的 40 41"
   ]
  },
  {
   "cell_type": "code",
   "execution_count": 63,
   "metadata": {},
   "outputs": [],
   "source": [
    "above4 = [40,41]\n",
    "tmp = []\n",
    "for i in above4:\n",
    "    for j in range(0,len(tang_fix[i][1])):\n",
    "        if '座:' in tang_fix[i][1][j] and '晴天' not in tang_fix[i][1][j]:\n",
    "            tmp.append(tang_fix[i][1][j][:-4])\n",
    "            tmp.append(tang_fix[i][1][j][-4:])\n",
    "        else:\n",
    "            tmp.append(tang_fix[i][1][j])\n",
    "    tang_fix[i][1] = tmp\n",
    "    tmp = []"
   ]
  },
  {
   "cell_type": "markdown",
   "metadata": {},
   "source": [
    "# 剩下來的是尾巴漏掉一兩行的，是爬蟲程式的錯，這邊遠水救不了近火，就先算了"
   ]
  },
  {
   "cell_type": "code",
   "execution_count": 64,
   "metadata": {},
   "outputs": [
    {
     "name": "stdout",
     "output_type": "stream",
     "text": [
      "3 27\n",
      "44 28\n",
      "154 28\n",
      "262 28\n",
      "264 28\n"
     ]
    }
   ],
   "source": [
    "for i in range(0,len(tang_fix)):\n",
    "    if not len(tang_fix[i][1])==29:\n",
    "        print(i,len(tang_fix[i][1]))"
   ]
  },
  {
   "cell_type": "markdown",
   "metadata": {},
   "source": [
    "## 切成星座名稱和文章內容，分成兩個檔案，同row/column代表同一篇文章\n",
    "### 唐的規則，當天前三個星座是5分，四到六4分，七八3分、九十2分、十一跟十二1分"
   ]
  },
  {
   "cell_type": "code",
   "execution_count": 65,
   "metadata": {},
   "outputs": [],
   "source": [
    "tang_tag = []\n",
    "tang_content = []\n",
    "tag_position = [1,3,5,8,10,12,15,17,20,22,25,27]\n",
    "tmpt = []\n",
    "tmpc = []\n",
    "for i in range(0,len(tang_fix)):\n",
    "    tmpt.append(tang_fix[i][0])\n",
    "    tmpc.append(tang_fix[i][0])\n",
    "    if(len(tang_fix[i][1])==29):\n",
    "        for pos in tag_position:\n",
    "            tmpt.append(tang_fix[i][1][pos])\n",
    "            tmpc.append(tang_fix[i][1][pos+1])\n",
    "    elif(len(tang_fix[i][1])>=27):\n",
    "        for pos in tag_position[:-1]:\n",
    "            tmpt.append(tang_fix[i][1][pos])\n",
    "            tmpc.append(tang_fix[i][1][pos+1])\n",
    "    else:\n",
    "        for pos in tag_position[:-2]:\n",
    "            tmpt.append(tang_fix[i][1][pos])\n",
    "            tmpc.append(tang_fix[i][1][pos+1])\n",
    "    tang_tag.append(tmpt)\n",
    "    tang_content.append(tmpc)\n",
    "    tmpt = []\n",
    "    tmpc = []\n"
   ]
  },
  {
   "cell_type": "code",
   "execution_count": 66,
   "metadata": {},
   "outputs": [],
   "source": [
    "writefile('tang_tag.csv',tang_tag)\n",
    "writefile('tang_content.csv',tang_content)"
   ]
  },
  {
   "cell_type": "markdown",
   "metadata": {},
   "source": [
    "#  蘇珊的斷句，因為文章源按照星座排，就不寫標籤檔了"
   ]
  },
  {
   "cell_type": "code",
   "execution_count": 136,
   "metadata": {},
   "outputs": [
    {
     "name": "stdout",
     "output_type": "stream",
     "text": [
      "8 9\n",
      "27 12\n",
      "57 12\n",
      "80 12\n",
      "142 12\n",
      "143 12\n",
      "144 12\n",
      "145 12\n",
      "147 12\n",
      "148 12\n",
      "149 12\n",
      "150 12\n",
      "153 4\n",
      "308 7368\n"
     ]
    }
   ],
   "source": [
    "horoviewer = ['白羊座','金牛座','雙子座','巨蟹座','獅子座','處女座','天秤座','天蠍座','射手座','摩羯座','水瓶座','雙魚座']\n",
    "susan_output = []\n",
    "tmp = []\n",
    "\n",
    "for i in range(0,len(susan)):\n",
    "    tmp.append(susan[i][0])\n",
    "    for scope in horoviewer:\n",
    "        for j in range(0,len(susan[i][1])):\n",
    "            if susan[i][1][j] == scope and not j == len(susan[i][1])-1: \n",
    "                tmp.append(susan[i][1][j+1])\n",
    "    if not len(tmp) == 13:\n",
    "        print(i,len(tmp))\n",
    "    else:\n",
    "        susan_output.append(tmp)\n",
    "    tmp = []"
   ]
  },
  {
   "cell_type": "code",
   "execution_count": 139,
   "metadata": {},
   "outputs": [],
   "source": [
    "writefile('susanmiller_raw.csv',susan_output)"
   ]
  },
  {
   "cell_type": "code",
   "execution_count": null,
   "metadata": {},
   "outputs": [],
   "source": []
  }
 ],
 "metadata": {
  "kernelspec": {
   "display_name": "Python 3",
   "language": "python",
   "name": "python3"
  },
  "language_info": {
   "codemirror_mode": {
    "name": "ipython",
    "version": 3
   },
   "file_extension": ".py",
   "mimetype": "text/x-python",
   "name": "python",
   "nbconvert_exporter": "python",
   "pygments_lexer": "ipython3",
   "version": "3.6.6"
  }
 },
 "nbformat": 4,
 "nbformat_minor": 2
}
